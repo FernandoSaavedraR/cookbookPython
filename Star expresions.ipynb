{
 "cells": [
  {
   "cell_type": "markdown",
   "metadata": {},
   "source": [
    "# Star Expresions\n",
    "a veces no sabemos cuantos valores vamos a recibir, por lo que podemos usar una *Star expresion* para recibir **n** numero de valores **sin nombre**"
   ]
  },
  {
   "cell_type": "code",
   "execution_count": 1,
   "metadata": {},
   "outputs": [
    {
     "name": "stdout",
     "output_type": "stream",
     "text": [
      "['Fernando', 21, '55-46757886', '55-38149959']\n",
      "['55-46757886', '55-38149959']\n"
     ]
    }
   ],
   "source": [
    "lista = ['Fernando',21,'55-46757886','55-38149959']\n",
    "\n",
    "nombre,edad,*telefono = lista\n",
    "print(lista)\n",
    "print(telefono)"
   ]
  },
  {
   "cell_type": "markdown",
   "metadata": {},
   "source": [
    "No es necesario que la *star expresion* esté al **final** puede estar en cualquier lugar de la expresión, por ejemplo"
   ]
  },
  {
   "cell_type": "code",
   "execution_count": 2,
   "metadata": {},
   "outputs": [
    {
     "name": "stdout",
     "output_type": "stream",
     "text": [
      "[10, 12, 14, 15, 24]\n",
      "11\n"
     ]
    }
   ],
   "source": [
    "*tiempo_trenes,tiempo_actual = [10,12,14,15,24,11]\n",
    "print(tiempo_trenes)\n",
    "print(tiempo_actual)"
   ]
  },
  {
   "cell_type": "markdown",
   "metadata": {},
   "source": [
    "Esto lo podemos usar para operar, por ejemplo, saber si el último tiempo del tren fue más rápido que el promedio de los anteriores"
   ]
  },
  {
   "cell_type": "code",
   "execution_count": 3,
   "metadata": {},
   "outputs": [
    {
     "name": "stdout",
     "output_type": "stream",
     "text": [
      "tiempo de trenes historicos: [10, 12, 14, 15, 24]\n",
      "ultimo tiempo: 11\n",
      "promedio historico:15\n",
      "Menos que la media\n"
     ]
    }
   ],
   "source": [
    "promedio = sum(tiempo_trenes)/len(tiempo_trenes)\n",
    "\n",
    "def avg_comparison(promedio,actual):\n",
    "    mensaje = ''\n",
    "    if actual > promedio:\n",
    "        mensaje =  \"Más de la media\"\n",
    "    elif actual == promedio:\n",
    "        mensaje =  \"Igual que la media\"\n",
    "    else:\n",
    "        mensaje = \"Menos que la media\"\n",
    "    return mensaje\n",
    "\n",
    "print(f'tiempo de trenes historicos: {tiempo_trenes}')\n",
    "print(f'ultimo tiempo: {tiempo_actual}')\n",
    "print(f'promedio historico:{int(promedio)}')\n",
    "print(avg_comparison(promedio,tiempo_actual))"
   ]
  },
  {
   "cell_type": "markdown",
   "metadata": {},
   "source": [
    "También podemos ignorar **n** numero de valores usando "
   ]
  }
 ],
 "metadata": {
  "kernelspec": {
   "display_name": "Python 3",
   "language": "python",
   "name": "python3"
  },
  "language_info": {
   "codemirror_mode": {
    "name": "ipython",
    "version": 3
   },
   "file_extension": ".py",
   "mimetype": "text/x-python",
   "name": "python",
   "nbconvert_exporter": "python",
   "pygments_lexer": "ipython3",
   "version": "3.7.4"
  }
 },
 "nbformat": 4,
 "nbformat_minor": 2
}
