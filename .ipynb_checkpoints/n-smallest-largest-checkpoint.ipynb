{
 "cells": [
  {
   "cell_type": "markdown",
   "metadata": {},
   "source": [
    "# N-smallest N-largest\n",
    "\n",
    "Estudiremos dos funciones que nos regresan los **n**-valores más **pequeños** y los **n**-valores más **grandes** de una lista"
   ]
  },
  {
   "cell_type": "code",
   "execution_count": 1,
   "metadata": {},
   "outputs": [],
   "source": [
    "import heapq"
   ]
  },
  {
   "cell_type": "code",
   "execution_count": 2,
   "metadata": {},
   "outputs": [
    {
     "name": "stdout",
     "output_type": "stream",
     "text": [
      "[1, 6, 2, 347, 2545, 67, -5, 23, 0, -36, 45]\n"
     ]
    }
   ],
   "source": [
    "nums = [1,6,2,347,2545,67,-5,23,0,-36,45]\n",
    "print(nums)"
   ]
  },
  {
   "cell_type": "code",
   "execution_count": 5,
   "metadata": {},
   "outputs": [
    {
     "name": "stdout",
     "output_type": "stream",
     "text": [
      "[2545, 347, 67, 45, 23]\n"
     ]
    }
   ],
   "source": [
    "print(heapq.nlargest(5, nums))"
   ]
  },
  {
   "cell_type": "code",
   "execution_count": 6,
   "metadata": {},
   "outputs": [
    {
     "name": "stdout",
     "output_type": "stream",
     "text": [
      "[-36, -5, 0]\n"
     ]
    }
   ],
   "source": [
    "print(heapq.nsmallest(3,nums))"
   ]
  },
  {
   "cell_type": "markdown",
   "metadata": {},
   "source": [
    "## KEY-PARAMETER\n",
    "\n",
    "n-largest y n-smaller tambien aceptan una clave\n",
    "para busquedas en estructuras de datos más complejas que una lista,  por ejemplo en un diccionario\n",
    "\n",
    "**nota:** lamba define una funcion que solo tiene <u> return </u>\n"
   ]
  },
  {
   "cell_type": "code",
   "execution_count": 8,
   "metadata": {},
   "outputs": [],
   "source": [
    "portafolio = [\n",
    "    {'name':'IBM','shares':100,'price':91.1},\n",
    "    {'name':'AAPL','shares':50,'price':543.22},\n",
    "    {'name':'FB','shares':200,'price':21.09},\n",
    "    {'name':'HPQ','shares':35,'price':31.75},\n",
    "    {'name':'YAHOO','shares':45,'price':16.35},\n",
    "    {'name':'ACME','shares':75,'price':115.65},\n",
    "]"
   ]
  },
  {
   "cell_type": "code",
   "execution_count": 12,
   "metadata": {},
   "outputs": [],
   "source": [
    "cheap = heapq.nsmallest(2,portafolio,key=lambda fila:fila['price'])\n",
    "expensive = heapq.nlargest(2,portafolio,key=lambda fila:fila['price'])"
   ]
  },
  {
   "cell_type": "code",
   "execution_count": 14,
   "metadata": {},
   "outputs": [
    {
     "name": "stdout",
     "output_type": "stream",
     "text": [
      "[{'name': 'YAHOO', 'shares': 45, 'price': 16.35}, {'name': 'FB', 'shares': 200, 'price': 21.09}]\n",
      "[{'name': 'AAPL', 'shares': 50, 'price': 543.22}, {'name': 'ACME', 'shares': 75, 'price': 115.65}]\n"
     ]
    }
   ],
   "source": [
    "print(cheap)\n",
    "print(expensive)"
   ]
  },
  {
   "cell_type": "code",
   "execution_count": 15,
   "metadata": {},
   "outputs": [],
   "source": [
    "mas_vendidos = heapq.nlargest(2,portafolio,key=lambda fila:fila['shares'])\n",
    "menos_vendidos = heapq.nsmallest(2,portafolio,key=lambda fila:fila['shares'])"
   ]
  },
  {
   "cell_type": "code",
   "execution_count": 16,
   "metadata": {},
   "outputs": [
    {
     "name": "stdout",
     "output_type": "stream",
     "text": [
      "[{'name': 'FB', 'shares': 200, 'price': 21.09}, {'name': 'IBM', 'shares': 100, 'price': 91.1}]\n",
      "[{'name': 'HPQ', 'shares': 35, 'price': 31.75}, {'name': 'YAHOO', 'shares': 45, 'price': 16.35}]\n"
     ]
    }
   ],
   "source": [
    "print(mas_vendidos)\n",
    "print(menos_vendidos)"
   ]
  },
  {
   "cell_type": "markdown",
   "metadata": {},
   "source": [
    "n smallest y n largest son utiles cuando se desea encontrar una cantidad **relativa** de valores máximos y minimos. Si queremos el maximo o el minimo mejor usar min max"
   ]
  },
  {
   "cell_type": "code",
   "execution_count": 21,
   "metadata": {},
   "outputs": [
    {
     "name": "stdout",
     "output_type": "stream",
     "text": [
      "[1, 6, 2, 347, 2545, 67, -5, 23, 0, -36, 45]\n",
      "maximo: 2545\n",
      "minimo: -36\n"
     ]
    }
   ],
   "source": [
    "print(nums)\n",
    "print(f'maximo: {max(nums)}')\n",
    "print(f'minimo: {min(nums)}')"
   ]
  },
  {
   "cell_type": "markdown",
   "metadata": {},
   "source": [
    "#### podemos hacer lo mismo con portafolio y obtener el mas caro y el mas barato"
   ]
  },
  {
   "cell_type": "code",
   "execution_count": 22,
   "metadata": {},
   "outputs": [
    {
     "name": "stdout",
     "output_type": "stream",
     "text": [
      "[{'name': 'IBM', 'shares': 100, 'price': 91.1}, {'name': 'AAPL', 'shares': 50, 'price': 543.22}, {'name': 'FB', 'shares': 200, 'price': 21.09}, {'name': 'HPQ', 'shares': 35, 'price': 31.75}, {'name': 'YAHOO', 'shares': 45, 'price': 16.35}, {'name': 'ACME', 'shares': 75, 'price': 115.65}]\n"
     ]
    }
   ],
   "source": [
    "print(portafolio)"
   ]
  },
  {
   "cell_type": "code",
   "execution_count": 38,
   "metadata": {},
   "outputs": [
    {
     "name": "stdout",
     "output_type": "stream",
     "text": [
      "mas caro: {'name': 'AAPL', 'shares': 50, 'price': 543.22}\n",
      "mas barato: {'name': 'YAHOO', 'shares': 45, 'price': 16.35}\n"
     ]
    }
   ],
   "source": [
    "print(f\"mas caro: {max(portafolio, key=lambda x:x['price'])}\")\n",
    "print(f\"mas barato: {min(portafolio,key=lambda fila:fila['price'])}\")"
   ]
  },
  {
   "cell_type": "code",
   "execution_count": null,
   "metadata": {},
   "outputs": [],
   "source": []
  }
 ],
 "metadata": {
  "kernelspec": {
   "display_name": "Python 3",
   "language": "python",
   "name": "python3"
  },
  "language_info": {
   "codemirror_mode": {
    "name": "ipython",
    "version": 3
   },
   "file_extension": ".py",
   "mimetype": "text/x-python",
   "name": "python",
   "nbconvert_exporter": "python",
   "pygments_lexer": "ipython3",
   "version": "3.7.4"
  }
 },
 "nbformat": 4,
 "nbformat_minor": 2
}
