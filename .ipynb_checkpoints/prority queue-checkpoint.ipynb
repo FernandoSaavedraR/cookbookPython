{
 "cells": [
  {
   "cell_type": "markdown",
   "metadata": {},
   "source": [
    "# Prority queue\n",
    "vamos a trabajar una lista con prioridades y que elimine los elementos del **más** prioritario al **menos** prioritario (como si los atendieramos primero)\n",
    "les asignamos una prioridad negativa para que estén primeros en la lista asi el más negativo es el más prioritario.\n",
    "nos apoyaremos de la libreria heapq que tiene los metodos que necesitamos"
   ]
  },
  {
   "cell_type": "code",
   "execution_count": 1,
   "metadata": {},
   "outputs": [],
   "source": [
    "import heapq"
   ]
  },
  {
   "cell_type": "code",
   "execution_count": 75,
   "metadata": {},
   "outputs": [],
   "source": [
    "class PriorityQueue:\n",
    "    def __init__(self):\n",
    "        self._queue=[]\n",
    "        self._index=0\n",
    "    def push(self,item,priority):\n",
    "        heapq.heappush(self._queue,(-priority,self._index,item))\n",
    "        self._index+=1\n",
    "    def pop(self):\n",
    "        return heapq.heappop(self._queue)[-1]\n",
    "class Item:\n",
    "    def __init__(self,name):\n",
    "        self.name = name\n",
    "    def __repr__(self):\n",
    "        return 'Item({!r})'.format(self.name)"
   ]
  },
  {
   "cell_type": "markdown",
   "metadata": {},
   "source": [
    "generamos una lista privada con un indice privado que almacena una prioridad y tiene dos metodos: **push** y **pop** "
   ]
  },
  {
   "cell_type": "code",
   "execution_count": 76,
   "metadata": {},
   "outputs": [],
   "source": [
    "q = PriorityQueue()"
   ]
  },
  {
   "cell_type": "code",
   "execution_count": 80,
   "metadata": {},
   "outputs": [],
   "source": [
    "q.push(Item('foo'), 1)\n",
    "q.push(Item('bar'), 5)\n",
    "q.push(Item('spam'), 4)\n",
    "q.push(Item('grok'), 1)"
   ]
  },
  {
   "cell_type": "code",
   "execution_count": 78,
   "metadata": {},
   "outputs": [
    {
     "name": "stdout",
     "output_type": "stream",
     "text": [
      "[(-5, 1, Item('bar')), (-1, 0, Item('foo')), (-4, 2, Item('spam')), (-1, 3, Item('grok'))]\n"
     ]
    }
   ],
   "source": [
    "print(q._queue)"
   ]
  },
  {
   "cell_type": "code",
   "execution_count": 79,
   "metadata": {},
   "outputs": [
    {
     "name": "stdout",
     "output_type": "stream",
     "text": [
      "Item('bar')\n"
     ]
    }
   ],
   "source": [
    "print(q.pop())"
   ]
  },
  {
   "cell_type": "markdown",
   "metadata": {},
   "source": [
    "observemos *(-priority,self._index,item))* nuestro primer valor, en este caso **priority** será el que heapq utilice para determinar cual es el menor y en nuestro metodo pop regresamos el valor **[-1]** es decir, el **ultimo** o el que está a la **derecha**\n",
    "\n",
    "**nota:** supongamos una lista del 1 al 10\n",
    "\n",
    "\\[1,2,3,4,5,6,7,8,9,10\\]\n",
    "podemos acceder a ella de dos formas, con su indice de izquierda a derecha o viceversa, es decir:"
   ]
  },
  {
   "cell_type": "code",
   "execution_count": 83,
   "metadata": {},
   "outputs": [
    {
     "name": "stdout",
     "output_type": "stream",
     "text": [
      "[1, 2, 3, 4, 5, 6, 7, 8, 9, 10]\n"
     ]
    }
   ],
   "source": [
    "lista = [x for x in range(1,11)]\n",
    "print(lista)"
   ]
  },
  {
   "cell_type": "markdown",
   "metadata": {},
   "source": [
    "veamoslo de manera ***acendente***"
   ]
  },
  {
   "cell_type": "code",
   "execution_count": 86,
   "metadata": {},
   "outputs": [
    {
     "name": "stdout",
     "output_type": "stream",
     "text": [
      "lista[0] = 1\n",
      "lista[1] = 2\n",
      "lista[2] = 3\n",
      "lista[3] = 4\n",
      "lista[4] = 5\n",
      "lista[5] = 6\n",
      "lista[6] = 7\n",
      "lista[7] = 8\n",
      "lista[8] = 9\n",
      "lista[9] = 10\n"
     ]
    }
   ],
   "source": [
    "for x in range(10):\n",
    "    print(f'lista[{x}] = {lista[x]}')"
   ]
  },
  {
   "cell_type": "markdown",
   "metadata": {},
   "source": [
    "ahora de manera ***descencedente***"
   ]
  },
  {
   "cell_type": "code",
   "execution_count": 88,
   "metadata": {},
   "outputs": [
    {
     "name": "stdout",
     "output_type": "stream",
     "text": [
      "lista[-1] = 10\n",
      "lista[-2] = 9\n",
      "lista[-3] = 8\n",
      "lista[-4] = 7\n",
      "lista[-5] = 6\n",
      "lista[-6] = 5\n",
      "lista[-7] = 4\n",
      "lista[-8] = 3\n",
      "lista[-9] = 2\n",
      "lista[-10] = 1\n"
     ]
    }
   ],
   "source": [
    "for x in range(1,11):\n",
    "    print(f'lista[-{x}] = {lista[-x]}')"
   ]
  },
  {
   "cell_type": "markdown",
   "metadata": {},
   "source": [
    "podemos observar que las listas están invertidas, dependiendo del indice que usemos, esto es util para algo que se llaman slicers :)"
   ]
  },
  {
   "cell_type": "markdown",
   "metadata": {},
   "source": [
    "hay un detalle muy importante que debemos observar, el sistema usa **priority** para buscar al menor y eliminarlo cuando se hace un pop, sin embargo, tambien existe en la tupla el valor **index** si solo tuvieramos una tupla *(priority, item)*  y tenemos actividades con la misma prioridad, la comparación fallaria y el sistema regresaría un error, por lo cual es necesario el valor index, ya que al tener la tupa *(priority,index,item)* al tener prioridades iguales compara con el index, por lo que eliminaria el que se ingresó primero\n"
   ]
  }
 ],
 "metadata": {
  "kernelspec": {
   "display_name": "Python 3",
   "language": "python",
   "name": "python3"
  },
  "language_info": {
   "codemirror_mode": {
    "name": "ipython",
    "version": 3
   },
   "file_extension": ".py",
   "mimetype": "text/x-python",
   "name": "python",
   "nbconvert_exporter": "python",
   "pygments_lexer": "ipython3",
   "version": "3.7.4"
  }
 },
 "nbformat": 4,
 "nbformat_minor": 2
}
