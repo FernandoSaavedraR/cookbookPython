{
 "cells": [
  {
   "cell_type": "markdown",
   "metadata": {},
   "source": [
    "# DEQUE\n",
    "\n",
    "En este ejercicio se busca mantener un maximo de 5 elementos en una lista.\n",
    "Se utiliza una colección especial **Deque** que permite establecer un tamaño y eliminar y agregar por la izquierda y la derecha\n",
    "\n",
    "utilizamos una **built in** function llamada yield que permite regresar un valor sin  interrumpir la función."
   ]
  },
  {
   "cell_type": "code",
   "execution_count": 8,
   "metadata": {
    "scrolled": true
   },
   "outputs": [],
   "source": [
    "from collections import deque"
   ]
  },
  {
   "cell_type": "code",
   "execution_count": 61,
   "metadata": {},
   "outputs": [],
   "source": [
    "def search(lines,pattern,history=5):\n",
    "    previous_lines = deque(maxlen=history)\n",
    "    for line in lines:\n",
    "        if pattern in line:\n",
    "            yield line,previous_lines\n",
    "            #print('uwu')\n",
    "        previous_lines.append(line)"
   ]
  },
  {
   "cell_type": "code",
   "execution_count": 62,
   "metadata": {},
   "outputs": [
    {
     "name": "stdout",
     "output_type": "stream",
     "text": [
      "--------------------\n",
      "uwu\n",
      "python\n",
      "fernando\n",
      "--------------------\n",
      "uwu\n",
      "python\n",
      "fernando\n",
      "python\n",
      "taco\n",
      "--------------------\n",
      "uwu\n",
      "python\n",
      "taco\n",
      "python\n",
      "elefante\n",
      "primo\n",
      "--------------------\n",
      "uwu\n"
     ]
    }
   ],
   "source": [
    "with open('dequeue.txt') as f:\n",
    "    for line,prevlines in search(f,'python',5):\n",
    "        for pline in prevlines:\n",
    "            print(pline,end='')\n",
    "        print('-'*20)"
   ]
  }
 ],
 "metadata": {
  "kernelspec": {
   "display_name": "Python 3",
   "language": "python",
   "name": "python3"
  },
  "language_info": {
   "codemirror_mode": {
    "name": "ipython",
    "version": 3
   },
   "file_extension": ".py",
   "mimetype": "text/x-python",
   "name": "python",
   "nbconvert_exporter": "python",
   "pygments_lexer": "ipython3",
   "version": "3.7.4"
  }
 },
 "nbformat": 4,
 "nbformat_minor": 2
}
