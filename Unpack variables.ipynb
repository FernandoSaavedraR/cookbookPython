{
 "cells": [
  {
   "cell_type": "markdown",
   "metadata": {},
   "source": [
    "# UNPACK\n",
    "en este tema aprenderemos a *Desempaquetar* valores en variables, es decir, si tenemos una lista de 10 valores guardaremos esos 10 valores en variables independientes"
   ]
  },
  {
   "cell_type": "code",
   "execution_count": 1,
   "metadata": {},
   "outputs": [
    {
     "name": "stdout",
     "output_type": "stream",
     "text": [
      "(5, 4)\n",
      "[5,4]\n",
      "['Fernando', 'Saavedra Rodríguez', 1, True, (90, 60, 90)]\n",
      "nombre: Fernando\n",
      "apellidos: Saavedra Rodríguez\n",
      "edad: 1 año\n",
      "sexo: masculino\n",
      "medidas: (90, 60, 90)\n"
     ]
    }
   ],
   "source": [
    "#Desestructurar iterables\n",
    "#Debes tener el mismo numero de variables que\n",
    "#elementos en tu iterable\n",
    "t = (5,4)\n",
    "x,y = t\n",
    "\n",
    "print(t)\n",
    "print(f'[{x},{y}]')\n",
    "\n",
    "array = ['Fernando','Saavedra Rodríguez',1,True,(90,60,90)]\n",
    "\n",
    "nombre,apellidos,edad,sexo,medidas = array\n",
    "\n",
    "print(array)\n",
    "\n",
    "print(f'nombre: {nombre}')\n",
    "print(f'apellidos: {apellidos}')\n",
    "print(f'edad: {edad} {\"año\" if edad ==1 else \"años\"}')\n",
    "print(f'sexo: {\"masculino\" if sexo else \"femenino\"}')\n",
    "print(f'medidas: {medidas}')\n"
   ]
  },
  {
   "cell_type": "markdown",
   "metadata": {},
   "source": [
    "Hay valores que no solemos necesitar, por lo que las ignoramos, por convención se usa el caracter **'\\_'** para variables ignorables o se usa **ign**"
   ]
  },
  {
   "cell_type": "code",
   "execution_count": 2,
   "metadata": {},
   "outputs": [
    {
     "name": "stdout",
     "output_type": "stream",
     "text": [
      "array = (5, 4, 3)\n",
      "a = 5\n",
      "c = 3\n",
      "4\n"
     ]
    }
   ],
   "source": [
    "array = (5,4,3)\n",
    "\n",
    "a,_,c = array\n",
    "\n",
    "print(f'array = {array}')\n",
    "print(f'a = {a}')\n",
    "print(f'c = {c}')\n",
    "print(_)\n",
    "#el valor en la variable existe, pero se considera basura\n"
   ]
  },
  {
   "cell_type": "code",
   "execution_count": null,
   "metadata": {},
   "outputs": [],
   "source": []
  }
 ],
 "metadata": {
  "kernelspec": {
   "display_name": "Python 3",
   "language": "python",
   "name": "python3"
  },
  "language_info": {
   "codemirror_mode": {
    "name": "ipython",
    "version": 3
   },
   "file_extension": ".py",
   "mimetype": "text/x-python",
   "name": "python",
   "nbconvert_exporter": "python",
   "pygments_lexer": "ipython3",
   "version": "3.7.4"
  }
 },
 "nbformat": 4,
 "nbformat_minor": 2
}
